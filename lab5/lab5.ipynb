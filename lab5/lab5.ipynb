{
 "cells": [
  {
   "cell_type": "code",
   "execution_count": null,
   "metadata": {},
   "outputs": [],
   "source": [
    "import re"
   ]
  },
  {
   "cell_type": "markdown",
   "metadata": {},
   "source": [
    "### Write a Python program that matches a string that has an 'a' followed by zero or more 'b''s"
   ]
  },
  {
   "cell_type": "code",
   "execution_count": null,
   "metadata": {},
   "outputs": [
    {
     "ename": "",
     "evalue": "",
     "output_type": "error",
     "traceback": [
      "\u001b[1;31mRunning cells with 'Python 3.10.12' requires the ipykernel package.\n",
      "\u001b[1;31mRun the following command to install 'ipykernel' into the Python environment. \n",
      "\u001b[1;31mCommand: '/bin/python3 -m pip install ipykernel -U --user --force-reinstall'"
     ]
    }
   ],
   "source": [
    "pattern = r'a*b*'\n",
    "test_string = \"abbb\"\n",
    "\n",
    "if re.fullmatch(pattern, test_string):\n",
    "    print(\"Match found!\")\n",
    "else:\n",
    "    print(\"No match found.\")"
   ]
  },
  {
   "cell_type": "markdown",
   "metadata": {},
   "source": [
    "###     Write a Python program that matches a string that has an 'a' followed by two to three 'b'."
   ]
  },
  {
   "cell_type": "code",
   "execution_count": null,
   "metadata": {},
   "outputs": [],
   "source": [
    "pattern1 = r'ab{2,3}'\n",
    "test_string1 = \"abbb\"\n",
    "\n",
    "if re.fullmatch(pattern1, test_string1):\n",
    "    print(\"Match found for pattern1!\")\n",
    "else:\n",
    "    print(\"No match found for pattern1.\")"
   ]
  },
  {
   "cell_type": "markdown",
   "metadata": {},
   "source": [
    "###     Write a Python program to find sequences of lowercase letters joined with a underscore."
   ]
  },
  {
   "cell_type": "code",
   "execution_count": null,
   "metadata": {},
   "outputs": [],
   "source": [
    "pattern2 = r'[a-z]+_[a-z]+'\n",
    "test_string2 = \"hello_world\"\n",
    "\n",
    "if re.fullmatch(pattern2, test_string2):\n",
    "    print(\"Match found for pattern2!\")\n",
    "else:\n",
    "    print(\"No match found for pattern2.\")"
   ]
  },
  {
   "cell_type": "markdown",
   "metadata": {},
   "source": [
    "###     Write a Python program to find the sequences of one upper case letter followed by lower case letters."
   ]
  },
  {
   "cell_type": "code",
   "execution_count": null,
   "metadata": {},
   "outputs": [],
   "source": [
    "\n",
    "pattern3 = r'[A-Z][a-z]+'\n",
    "test_string3 = \"Hello\"\n",
    "\n",
    "if re.fullmatch(pattern3, test_string3):\n",
    "    print(\"Match found for pattern3!\")\n",
    "else:\n",
    "    print(\"No match found for pattern3.\")"
   ]
  },
  {
   "cell_type": "markdown",
   "metadata": {},
   "source": [
    "###     Write a Python program that matches a string that has an 'a' followed by anything, ending in 'b'."
   ]
  },
  {
   "cell_type": "code",
   "execution_count": null,
   "metadata": {},
   "outputs": [],
   "source": [
    "pattern4 = r'a.*b'\n",
    "test_string4 = \"a123b\"\n",
    "\n",
    "if re.fullmatch(pattern4, test_string4):\n",
    "    print(\"Match found for pattern4!\")\n",
    "else:\n",
    "    print(\"No match found for pattern4.\")"
   ]
  },
  {
   "cell_type": "markdown",
   "metadata": {},
   "source": [
    "###     Write a Python program to replace all occurrences of space, comma, or dot with a colon."
   ]
  },
  {
   "cell_type": "code",
   "execution_count": null,
   "metadata": {},
   "outputs": [],
   "source": [
    "test_string5 = \"Hello, world. How are you?\"\n",
    "result5 = re.sub(r'[ ,.]', ':', test_string5)\n",
    "print(\"Result for pattern5:\", result5)"
   ]
  },
  {
   "cell_type": "markdown",
   "metadata": {},
   "source": [
    "###     Write a python program to convert snake case string to camel case string.\n"
   ]
  },
  {
   "cell_type": "code",
   "execution_count": null,
   "metadata": {},
   "outputs": [],
   "source": [
    "def snake_to_camel(snake_str):\n",
    "    components = snake_str.split('_')\n",
    "    return components[0] + ''.join(x.title() for x in components[1:])\n",
    "\n",
    "test_string6 = \"hello_world_example\"\n",
    "result6 = snake_to_camel(test_string6)\n",
    "print(\"Result for pattern6:\", result6)"
   ]
  },
  {
   "cell_type": "markdown",
   "metadata": {},
   "source": [
    "###     Write a Python program to split a string at uppercase letters.\n"
   ]
  },
  {
   "cell_type": "code",
   "execution_count": null,
   "metadata": {},
   "outputs": [
    {
     "ename": "",
     "evalue": "",
     "output_type": "error",
     "traceback": [
      "\u001b[1;31mRunning cells with 'Python 3.10.12' requires the ipykernel package.\n",
      "\u001b[1;31mRun the following command to install 'ipykernel' into the Python environment. \n",
      "\u001b[1;31mCommand: '/bin/python3 -m pip install ipykernel -U --user --force-reinstall'"
     ]
    }
   ],
   "source": [
    "\n",
    "pattern7 = r'[A-Z][^A-Z]*'\n",
    "test_string7 = \"HelloWorldExample\"\n",
    "result7 = re.findall(pattern7, test_string7)\n",
    "print(\"Result for pattern7:\", result7)"
   ]
  },
  {
   "cell_type": "markdown",
   "metadata": {},
   "source": [
    "###    Write a Python program to insert spaces between words starting with capital letters."
   ]
  },
  {
   "cell_type": "code",
   "execution_count": null,
   "metadata": {},
   "outputs": [],
   "source": [
    "pattern8 = r'(?<!^)(?=[A-Z])'\n",
    "test_string8 = \"HelloWorldExample\"\n",
    "result8 = re.sub(pattern8, ' ', test_string8)\n",
    "print(\"Result for pattern8:\", result8)"
   ]
  },
  {
   "cell_type": "markdown",
   "metadata": {},
   "source": [
    "###     Write a Python program to convert a given camel case string to snake case.\n"
   ]
  },
  {
   "cell_type": "code",
   "execution_count": null,
   "metadata": {},
   "outputs": [],
   "source": [
    "def camel_to_snake(camel_str):\n",
    "    return re.sub(r'(?<!^)(?=[A-Z])', '_', camel_str).lower()\n",
    "\n",
    "test_string9 = \"HelloWorldExample\"\n",
    "result9 = camel_to_snake(test_string9)\n",
    "print(\"Result for pattern9:\", result9)"
   ]
  }
 ],
 "metadata": {
  "kernelspec": {
   "display_name": "Python 3",
   "language": "python",
   "name": "python3"
  },
  "language_info": {
   "name": "python",
   "version": "3.10.12"
  }
 },
 "nbformat": 4,
 "nbformat_minor": 2
}
