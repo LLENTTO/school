{
 "cells": [
  {
   "cell_type": "markdown",
   "metadata": {},
   "source": [
    "# Python math lib\n",
    "\n",
    "<hr />\n",
    "\n",
    "    Write a Python program to convert degree to radian.\n",
    "\n",
    "Input degree: 15\n",
    "Output radian: 0.261904\n",
    "\n",
    "<hr />\n",
    "\n",
    "    Write a Python program to calculate the area of a trapezoid.\n",
    "\n",
    "Height: 5\n",
    "Base, first value: 5\n",
    "Base, second value: 6\n",
    "Expected Output: 27.5\n",
    "\n",
    "<hr />\n",
    "\n",
    "    Write a Python program to calculate the area of regular polygon.\n",
    "\n",
    "Input number of sides: 4\n",
    "Input the length of a side: 25\n",
    "The area of the polygon is: 625\n",
    "\n",
    "<hr />\n",
    "\n",
    "    Write a Python program to calculate the area of a parallelogram.\n",
    "\n",
    "Length of base: 5\n",
    "Height of parallelogram: 6\n",
    "Expected Output: 30.0\n"
   ]
  },
  {
   "cell_type": "code",
   "execution_count": null,
   "metadata": {},
   "outputs": [
    {
     "ename": "",
     "evalue": "",
     "output_type": "error",
     "traceback": [
      "\u001b[1;31mRunning cells with 'c:\\ext\\python\\python.exe' requires the ipykernel package.\n",
      "\u001b[1;31mRun the following command to install 'ipykernel' into the Python environment. \n",
      "\u001b[1;31mCommand: 'c:/ext/python/python.exe -m pip install ipykernel -U --user --force-reinstall'"
     ]
    }
   ],
   "source": [
    "# 1\n",
    "\"\"\"\n",
    "Core formula:   1 degre * pi / 180 \n",
    "\"\"\"\n",
    "\n",
    "import math\n",
    "\n",
    "def converter(degree):\n",
    "    radian  = degree * math.pi / 180\n",
    "    return radian\n",
    "\n",
    "print(converter(15))"
   ]
  },
  {
   "cell_type": "code",
   "execution_count": null,
   "metadata": {},
   "outputs": [],
   "source": [
    "# 2\n",
    "\"\"\"\n",
    "    Write a Python program to calculate the area of a trapezoid.\n",
    "\n",
    "Height: 5\n",
    "Base, first value: 5\n",
    "Base, second value: 6\n",
    "Expected Output: 27.5\n",
    "\"\"\"\n",
    "\n",
    "# Preconfig: trapezoid formula: A=(a+b)h/2\n",
    "\n",
    "height = int(input(\"Height: \"))\n",
    "first = int(input(\"Base, first value: \"))\n",
    "second = int(input(\"Base, second value: \"))\n",
    "\n",
    "def trapezoid():\n",
    "    output = (first + second) * height / 2\n",
    "    return output\n",
    "\n",
    "print(trapezoid())"
   ]
  },
  {
   "cell_type": "code",
   "execution_count": null,
   "metadata": {},
   "outputs": [],
   "source": [
    "# 3\n",
    "\"\"\"\n",
    "    Write a Python program to calculate the area of regular polygon.\n",
    "\n",
    "Input number of sides: 4\n",
    "Input the length of a side: 25\n",
    "The area of the polygon is: 625\n",
    "\"\"\"\n",
    "\n",
    "# Preconfig: area formula: A = (n/2) * L * R\n",
    "\n",
    "n = int(input(\"Input number of sides: \"))\n",
    "L = int(input(\"Input the length of a side: \"))\n",
    "\n",
    "print(\"Area of a polygon is: \" (n/2) * L)"
   ]
  },
  {
   "cell_type": "code",
   "execution_count": null,
   "metadata": {},
   "outputs": [],
   "source": [
    "# 4\n",
    "\"\"\"\"\n",
    "    Write a Python program to calculate the area of a parallelogram.\n",
    "\n",
    "Length of base: 5\n",
    "Height of parallelogram: 6\n",
    "Expected Output: 30.0\n",
    "\n",
    "\"\"\"\n",
    "length = int(input(\"Length of base: \"))\n",
    "height = int(input(\"Height of parallelogram: \"))\n",
    "print(f\"Expected Ouput: {length * height}\")"
   ]
  },
  {
   "cell_type": "markdown",
   "metadata": {},
   "source": [
    "<hr />\n",
    "\n",
    "# Python iterators and generators\n",
    "    Create a generator that generates the squares of numbers up to some number N.\n",
    "\n",
    "    Write a program using generator to print the even numbers between 0 and n in comma separated form where n is input from console.\n",
    "\n",
    "    Define a function with a generator which can iterate the numbers, which are divisible by 3 and 4, between a given range 0 and n.\n",
    "\n",
    "    Implement a generator called squares to yield the square of all numbers from (a) to (b). Test it with a \"for\" loop and print each of the yielded values.\n",
    "\n",
    "    Implement a generator that returns all numbers from (n) down to 0."
   ]
  },
  {
   "cell_type": "code",
   "execution_count": null,
   "metadata": {},
   "outputs": [],
   "source": [
    "# 1: Square generators\n",
    "\n",
    "n = int(input())\n",
    "\n",
    "for i in range(n + 1):\n",
    "    print(i**2)"
   ]
  },
  {
   "cell_type": "code",
   "execution_count": null,
   "metadata": {},
   "outputs": [],
   "source": [
    "# 2: even numbers\n",
    "\n",
    "n = 50\n",
    "\n",
    "for i in range(n +1):\n",
    "    if i%2 ==0:\n",
    "        print(i)"
   ]
  },
  {
   "cell_type": "code",
   "execution_count": null,
   "metadata": {},
   "outputs": [],
   "source": [
    "# 3: Should be divided by 3 AND 4\n",
    "\n",
    "n = 50\n",
    "\n",
    "for i in range(n+1):\n",
    "    if i%3 ==0 and i%4 ==0:\n",
    "        print(i)"
   ]
  },
  {
   "cell_type": "code",
   "execution_count": null,
   "metadata": {},
   "outputs": [],
   "source": [
    "# 4: squares in range A to B\n",
    "\n",
    "    "
   ]
  },
  {
   "cell_type": "code",
   "execution_count": null,
   "metadata": {},
   "outputs": [],
   "source": [
    "# 5: return descending numbers:\n",
    "n = 50\n",
    "while n !=0 or n > 0:\n",
    "    n = n-1\n",
    "    print(n)"
   ]
  },
  {
   "cell_type": "markdown",
   "metadata": {},
   "source": [
    "# Python date\n",
    "\n",
    "    Write a Python program to subtract five days from current date.\n",
    "\n",
    "    Write a Python program to print yesterday, today, tomorrow.\n",
    "\n",
    "    Write a Python program to drop microseconds from datetime.\n",
    "\n",
    "    Write a Python program to calculate two date difference in seconds.\n",
    "\n",
    "<hr />"
   ]
  },
  {
   "cell_type": "code",
   "execution_count": null,
   "metadata": {},
   "outputs": [],
   "source": [
    "# 1:     Write a Python program to subtract five days from current date.\n",
    "\n",
    "from datetime import datetime, timedelta\n",
    "\n",
    "d1 = datetime.now() - timedelta(days=5)\n",
    "print (d1)"
   ]
  },
  {
   "cell_type": "code",
   "execution_count": null,
   "metadata": {},
   "outputs": [],
   "source": [
    "# 2:     Write a Python program to print yesterday, today, tomorrow.\n",
    "\n",
    "from datetime import datetime, timedelta\n",
    "\n",
    "\n",
    "d_y = datetime.now() - timedelta(days=1)\n",
    "d_t = datetime.now()\n",
    "d_tw = datetime.now() + timedelta(days=1)\n",
    "print (d_y, \"||\", d_t, \"||\" , d_tw)"
   ]
  },
  {
   "cell_type": "code",
   "execution_count": null,
   "metadata": {},
   "outputs": [],
   "source": [
    "# 3:    Write a Python program to drop microseconds from datetime.\n",
    "\n",
    "import datetime\n",
    "\n",
    "d_t = datetime.now()\n",
    "print(d_t.strftime(\"%X\"))"
   ]
  },
  {
   "cell_type": "code",
   "execution_count": null,
   "metadata": {},
   "outputs": [],
   "source": [
    "# 4:     Write a Python program to calculate two date difference in seconds.\n",
    "\n",
    "from datetime import datetime, timedelta\n",
    "\n",
    "\n",
    "d_y = datetime.now() - timedelta(seconds=50)\n",
    "d_t = datetime.now()\n",
    "\n",
    "diff = int(d_t.strftime(\"%S\")) - int(d_y.strftime(\"%S\"))\n",
    "\n",
    "print (diff)"
   ]
  }
 ],
 "metadata": {
  "kernelspec": {
   "display_name": "Python 3",
   "language": "python",
   "name": "python3"
  },
  "language_info": {
   "name": "python",
   "version": "3.11.0"
  }
 },
 "nbformat": 4,
 "nbformat_minor": 2
}
