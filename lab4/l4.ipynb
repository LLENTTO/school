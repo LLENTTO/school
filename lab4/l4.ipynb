{
 "cells": [
  {
   "cell_type": "markdown",
   "metadata": {},
   "source": [
    "# Python math lib\n",
    "\n",
    "<hr />\n",
    "\n",
    "    Write a Python program to convert degree to radian.\n",
    "\n",
    "Input degree: 15\n",
    "Output radian: 0.261904\n",
    "\n",
    "<hr />\n",
    "\n",
    "    Write a Python program to calculate the area of a trapezoid.\n",
    "\n",
    "Height: 5\n",
    "Base, first value: 5\n",
    "Base, second value: 6\n",
    "Expected Output: 27.5\n",
    "\n",
    "<hr />\n",
    "\n",
    "    Write a Python program to calculate the area of regular polygon.\n",
    "\n",
    "Input number of sides: 4\n",
    "Input the length of a side: 25\n",
    "The area of the polygon is: 625\n",
    "\n",
    "<hr />\n",
    "\n",
    "    Write a Python program to calculate the area of a parallelogram.\n",
    "\n",
    "Length of base: 5\n",
    "Height of parallelogram: 6\n",
    "Expected Output: 30.0\n"
   ]
  },
  {
   "cell_type": "code",
   "execution_count": null,
   "metadata": {},
   "outputs": [
    {
     "ename": "",
     "evalue": "",
     "output_type": "error",
     "traceback": [
      "\u001b[1;31mRunning cells with 'c:\\ext\\python\\python.exe' requires the ipykernel package.\n",
      "\u001b[1;31mRun the following command to install 'ipykernel' into the Python environment. \n",
      "\u001b[1;31mCommand: 'c:/ext/python/python.exe -m pip install ipykernel -U --user --force-reinstall'"
     ]
    }
   ],
   "source": [
    "# 1\n",
    "\"\"\"\n",
    "Core formula:   1 degre * pi / 180 \n",
    "\"\"\"\n",
    "\n",
    "import math\n",
    "\n",
    "def converter(degree):\n",
    "    radian  = degree * math.pi / 180\n",
    "    return radian\n",
    "\n",
    "print(converter(15))"
   ]
  },
  {
   "cell_type": "code",
   "execution_count": null,
   "metadata": {},
   "outputs": [],
   "source": [
    "# 2\n",
    "\"\"\"\n",
    "    Write a Python program to calculate the area of a trapezoid.\n",
    "\n",
    "Height: 5\n",
    "Base, first value: 5\n",
    "Base, second value: 6\n",
    "Expected Output: 27.5\n",
    "\"\"\"\n",
    "\n",
    "# Preconfig: trapezoid formula: A=(a+b)h/2\n",
    "\n",
    "height = int(input(\"Height: \"))\n",
    "first = int(input(\"Base, first value: \"))\n",
    "second = int(input(\"Base, second value: \"))\n",
    "\n",
    "def trapezoid():\n",
    "    output = (first + second) * height / 2\n",
    "    return output\n",
    "\n",
    "print(trapezoid())"
   ]
  },
  {
   "cell_type": "code",
   "execution_count": null,
   "metadata": {},
   "outputs": [],
   "source": [
    "# 3\n",
    "\"\"\"\n",
    "    Write a Python program to calculate the area of regular polygon.\n",
    "\n",
    "Input number of sides: 4\n",
    "Input the length of a side: 25\n",
    "The area of the polygon is: 625\n",
    "\"\"\"\n",
    "\n",
    "# Preconfig: area formula: A = (n/2) * L * R\n",
    "\n",
    "n = int(input(\"Input number of sides: \"))\n",
    "L = int(input(\"Input the length of a side: \"))\n",
    "\n",
    "print(\"Area of a polygon is: \" (n/2) * L)"
   ]
  },
  {
   "cell_type": "code",
   "execution_count": null,
   "metadata": {},
   "outputs": [],
   "source": [
    "# 4\n",
    "\"\"\"\"\n",
    "    Write a Python program to calculate the area of a parallelogram.\n",
    "\n",
    "Length of base: 5\n",
    "Height of parallelogram: 6\n",
    "Expected Output: 30.0\n",
    "\n",
    "\"\"\""
   ]
  }
 ],
 "metadata": {
  "kernelspec": {
   "display_name": "Python 3",
   "language": "python",
   "name": "python3"
  },
  "language_info": {
   "name": "python",
   "version": "3.11.0"
  }
 },
 "nbformat": 4,
 "nbformat_minor": 2
}
