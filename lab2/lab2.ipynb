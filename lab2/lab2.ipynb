{
 "cells": [
  {
   "cell_type": "markdown",
   "metadata": {},
   "source": [
    "### Booleans are state which provide Two values either True or False\n",
    "\n",
    "- They check for if the condition is being either true or false and provide the result\n"
   ]
  },
  {
   "cell_type": "code",
   "execution_count": 1,
   "metadata": {},
   "outputs": [
    {
     "name": "stdout",
     "output_type": "stream",
     "text": [
      "True\n"
     ]
    }
   ],
   "source": [
    "isOn = True\n",
    "\n",
    "print(isOn) ## result true"
   ]
  },
  {
   "cell_type": "markdown",
   "metadata": {},
   "source": [
    "### They also check for condition of state values"
   ]
  },
  {
   "cell_type": "code",
   "execution_count": 3,
   "metadata": {},
   "outputs": [
    {
     "name": "stdout",
     "output_type": "stream",
     "text": [
      "True\n",
      "False\n",
      "False\n"
     ]
    }
   ],
   "source": [
    "print (10>9) ## return true\n",
    "print (9 > 10) ## return false\n",
    "print (9 == 10)  ## return false)"
   ]
  },
  {
   "cell_type": "markdown",
   "metadata": {},
   "source": [
    "### By default such values like - 0 or Null are false"
   ]
  },
  {
   "cell_type": "markdown",
   "metadata": {},
   "source": [
    "<hr />"
   ]
  },
  {
   "cell_type": "markdown",
   "metadata": {},
   "source": [
    "## Operators\n",
    "### There are 4 ifferent types of operators\n",
    "- (+)\n",
    "- (-)\n",
    "- (*)\n",
    "- / \n",
    "- //\n",
    "- %\n",
    "- **\n",
    "- =\n"
   ]
  },
  {
   "cell_type": "code",
   "execution_count": 12,
   "metadata": {},
   "outputs": [
    {
     "name": "stdout",
     "output_type": "stream",
     "text": [
      "12\n",
      "8\n",
      "20\n",
      "5.0\n",
      "5\n",
      "1\n",
      "100\n",
      "False\n"
     ]
    }
   ],
   "source": [
    "print (10+2) ## returns 12\n",
    "print (10 - 2) ## return 8\n",
    "print (10 *2 ) ##returns 20\n",
    "print (10 / 2) ## returns 5\n",
    "print (10 //2 ) ## This operator provides devision witthout floats\n",
    "print (9%2) ## this would provide the remainng. in this ase its one\n",
    "print (10 **2 ) # returns 100 (power)\n",
    "print  (10==2) # CheCks for state\n"
   ]
  },
  {
   "cell_type": "markdown",
   "metadata": {},
   "source": [
    "<hr />"
   ]
  },
  {
   "cell_type": "markdown",
   "metadata": {},
   "source": [
    "## Lists\n",
    "\n",
    "### List are the collections of elements which containt any value.\n",
    "\n",
    "They can contain the same data type as well as different data types\n",
    "\n",
    "### <strong>List index starts with 0</string>\n",
    "\n",
    "Bellow theres providen example for the lists and their operations"
   ]
  },
  {
   "cell_type": "code",
   "execution_count": 14,
   "metadata": {},
   "outputs": [
    {
     "name": "stdout",
     "output_type": "stream",
     "text": [
      "['apple', 'pineapple', 'watermelon']\n",
      "apple\n",
      "pineapple\n",
      "watermelon\n",
      "[1, 'Red', False]\n"
     ]
    }
   ],
   "source": [
    "fruits = [\"apple\", \"pineapple\", \"watermelon\"]\n",
    "print (fruits) #returns a list of elements\n",
    "\n",
    "for fruit in fruits:\n",
    "    print(fruit)\n",
    "\n",
    "mixed_list = [1, \"Red\", False]\n",
    "print (mixed_list)"
   ]
  },
  {
   "cell_type": "markdown",
   "metadata": {},
   "source": [
    "## List accessing"
   ]
  },
  {
   "cell_type": "code",
   "execution_count": 24,
   "metadata": {},
   "outputs": [
    {
     "name": "stdout",
     "output_type": "stream",
     "text": [
      "Cheery\n",
      "Cheery\n",
      "Cheery\n",
      "['Cheery', 'Cheery', 'Cheery', 'Cheery', 'Cheery', 'Cheery']\n",
      "Melon\n",
      "['Melon', 'Cheery', 'Cheery', 'Cheery', 'Cheery', 'Cheery', 'Cheery']\n",
      "['Cheery', 'Cheery', 'Cheery', 'Cheery', 'Cheery', 'Cheery']\n"
     ]
    }
   ],
   "source": [
    "print (fruits[0]) ## returns the first element on the list\n",
    "print (fruits[2]) ## returns Third element on the list\n",
    "print (fruits[-1]) ## returns last element on the list\n",
    "\n",
    "#sliCing lists\n",
    "print (fruits[::1]) ## returns every element before the 1st element\n",
    "\n",
    "# you Can Change the element for Certain position\n",
    "fruits[0] = \"Melon\"\n",
    "print(fruits[0])\n",
    "\n",
    "# Append elements (add elements)\n",
    "fruits.append(\"Cheery\")\n",
    "print(fruits)\n",
    "\n",
    "# remove elements\n",
    "fruits.pop(0)\n",
    "print (fruits)\n"
   ]
  },
  {
   "cell_type": "markdown",
   "metadata": {},
   "source": [
    "## Sort lists"
   ]
  },
  {
   "cell_type": "code",
   "execution_count": null,
   "metadata": {},
   "outputs": [
    {
     "name": "stdout",
     "output_type": "stream",
     "text": [
      "Yeon\n",
      "Lisa\n",
      "None\n",
      "[['Yeon', 'Sung', 'Lee', 'Jim'], ['Jinah', 'Yunah', 'Sora', 'Lisa']]\n",
      "['Justin Bieber', 'Charlie Puth', 'Bruno Mars', 'Ariana Grande', 'Selena Gomes', 'Lisa']\n"
     ]
    }
   ],
   "source": [
    "## Lists Can be multidementional\n",
    "names = [[\"Sung\", \"Yeon\", \"Jim\", \"Lee\"], [\"Jinah\", \"Yunah\", \"Sora\", \"Lisa\"]]\n",
    "print(names[0][1]) # returns yeon\n",
    "print (names[1][3]) #returns lisa\n",
    "\n",
    "# you Can sort lists\n",
    "sorted_names = names[0].sort(reverse=True)\n",
    "print(sorted_names)\n",
    "\n",
    "#Copy \n",
    "listCopy = names.copy()\n",
    "print(listCopy)\n",
    "\n",
    "# And join llists\n",
    "MaleArtists = [\"Justin Bieber\", \"Charlie Puth\", \"Bruno Mars\"]\n",
    "FemaleArtists = [\"Ariana Grande\", \"Selena Gomes\", \"Lisa\"]\n",
    "\n",
    "JoinedList = MaleArtists + FemaleArtists\n",
    "#Or use .extend\n",
    "print(JoinedList)"
   ]
  }
 ],
 "metadata": {
  "kernelspec": {
   "display_name": "Python 3",
   "language": "python",
   "name": "python3"
  },
  "language_info": {
   "codemirror_mode": {
    "name": "ipython",
    "version": 3
   },
   "file_extension": ".py",
   "mimetype": "text/x-python",
   "name": "python",
   "nbconvert_exporter": "python",
   "pygments_lexer": "ipython3",
   "version": "3.12.8"
  }
 },
 "nbformat": 4,
 "nbformat_minor": 2
}
